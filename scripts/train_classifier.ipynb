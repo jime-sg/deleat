{
 "cells": [
  {
   "cell_type": "code",
   "execution_count": 38,
   "metadata": {},
   "outputs": [],
   "source": [
    "import os\n",
    "\n",
    "import pandas as pd\n",
    "import numpy as np\n",
    "from sklearn.pipeline import Pipeline\n",
    "from sklearn.impute import SimpleImputer\n",
    "from sklearn.preprocessing import MinMaxScaler\n",
    "from sklearn.linear_model import LogisticRegression\n",
    "from sklearn.model_selection import train_test_split, cross_val_score\n",
    "from sklearn.metrics import roc_curve, roc_auc_score\n",
    "from sklearn.model_selection import GridSearchCV"
   ]
  },
  {
   "cell_type": "markdown",
   "metadata": {},
   "source": [
    "# Data preprocessing"
   ]
  },
  {
   "cell_type": "code",
   "execution_count": 3,
   "metadata": {},
   "outputs": [],
   "source": [
    "DATA_DIR = \"/home/jimena/Bartonella/ge_classifier/features\"\n",
    "ID_MAP = \"/home/jimena/Bartonella/ge_classifier/features/locustag2deg_id95.csv\"\n",
    "data_files = [f for f in os.listdir(DATA_DIR) if f.endswith(\"_feature_table.csv\")]"
   ]
  },
  {
   "cell_type": "code",
   "execution_count": 4,
   "metadata": {
    "scrolled": true
   },
   "outputs": [
    {
     "name": "stderr",
     "output_type": "stream",
     "text": [
      "/home/jimena/anaconda3/envs/tfm-jupyter/lib/python3.7/site-packages/ipykernel_launcher.py:12: SettingWithCopyWarning: \n",
      "A value is trying to be set on a copy of a slice from a DataFrame.\n",
      "Try using .loc[row_indexer,col_indexer] = value instead\n",
      "\n",
      "See the caveats in the documentation: https://pandas.pydata.org/pandas-docs/stable/user_guide/indexing.html#returning-a-view-versus-a-copy\n",
      "  if sys.path[0] == '':\n"
     ]
    }
   ],
   "source": [
    "all_genes = pd.DataFrame()\n",
    "for file in data_files:\n",
    "    df = pd.read_csv(os.path.join(DATA_DIR, file), index_col=0)\n",
    "    df[\"organism\"] = file.split(\"_\")[0]\n",
    "    all_genes = pd.concat([all_genes, df])\n",
    "all_genes = all_genes[~all_genes.index.duplicated(keep=\"last\")]  # remove duplicates\n",
    "# all_genes = all_genes[[\"organism\", *df.columns.tolist()[:-1]]]  # reorder columns\n",
    "locustag2deg = pd.read_csv(ID_MAP, usecols=[1,2], index_col=\"locus_tag\", na_values=\"-\")\n",
    "locustag2deg = locustag2deg[~locustag2deg.index.duplicated(keep=\"last\")]\n",
    "all_genes = all_genes.join(locustag2deg, how=\"inner\")\n",
    "deg_genes = all_genes.dropna(subset=[\"deg_id\"])\n",
    "deg_genes[\"essential\"] = deg_genes[\"deg_id\"].map(lambda x: \"non-essential\" if \"N\" in x else \"essential\")"
   ]
  },
  {
   "cell_type": "code",
   "execution_count": 5,
   "metadata": {
    "scrolled": false
   },
   "outputs": [
    {
     "name": "stdout",
     "output_type": "stream",
     "text": [
      "<class 'pandas.core.frame.DataFrame'>\n",
      "Index: 91748 entries, SPY49_RS00010 to BTH_RS29200\n",
      "Data columns (total 16 columns):\n",
      " #   Column       Non-Null Count  Dtype  \n",
      "---  ------       --------------  -----  \n",
      " 0   strand_lead  91748 non-null  int64  \n",
      " 1   geptop       91748 non-null  float64\n",
      " 2   T3s          91748 non-null  float64\n",
      " 3   C3s          91748 non-null  float64\n",
      " 4   A3s          91748 non-null  float64\n",
      " 5   G3s          91748 non-null  float64\n",
      " 6   Nc           91500 non-null  float64\n",
      " 7   GC           91748 non-null  float64\n",
      " 8   L_sym        91748 non-null  int64  \n",
      " 9   L_aa         91748 non-null  int64  \n",
      " 10  Gravy        91748 non-null  float64\n",
      " 11  Aromo        91748 non-null  float64\n",
      " 12  deltaGC      91748 non-null  float64\n",
      " 13  organism     91748 non-null  object \n",
      " 14  deg_id       91748 non-null  object \n",
      " 15  essential    91748 non-null  object \n",
      "dtypes: float64(10), int64(3), object(3)\n",
      "memory usage: 11.9+ MB\n"
     ]
    }
   ],
   "source": [
    "deg_genes.info()"
   ]
  },
  {
   "cell_type": "code",
   "execution_count": 6,
   "metadata": {},
   "outputs": [
    {
     "data": {
      "text/plain": [
       "non-essential    79906\n",
       "essential        11842\n",
       "Name: essential, dtype: int64"
      ]
     },
     "execution_count": 6,
     "metadata": {},
     "output_type": "execute_result"
    }
   ],
   "source": [
    "deg_genes[\"essential\"].value_counts()"
   ]
  },
  {
   "cell_type": "markdown",
   "metadata": {},
   "source": [
    "# Exploratory data analysis"
   ]
  },
  {
   "cell_type": "code",
   "execution_count": 16,
   "metadata": {
    "scrolled": false
   },
   "outputs": [],
   "source": [
    "# pd.plotting.scatter_matrix(deg_genes.iloc[:,:-1], figsize = [8, 8],\n",
    "# s=150, marker = 'D')"
   ]
  },
  {
   "cell_type": "markdown",
   "metadata": {},
   "source": [
    "# Classifier training"
   ]
  },
  {
   "cell_type": "code",
   "execution_count": 7,
   "metadata": {},
   "outputs": [],
   "source": [
    "FEATURES = [\"strand_lead\", \"geptop\", \"T3s\", \"C3s\", \"A3s\", \"G3s\",\n",
    "            \"Nc\", \"GC\", \"L_sym\", \"L_aa\", \"Gravy\", \"Aromo\", \"deltaGC\"]\n",
    "X = deg_genes[FEATURES].values  # feature array\n",
    "y = deg_genes[\"essential\"].values  # target array"
   ]
  },
  {
   "cell_type": "markdown",
   "metadata": {},
   "source": [
    "## No undersampling, default hyperparameters"
   ]
  },
  {
   "cell_type": "code",
   "execution_count": 8,
   "metadata": {},
   "outputs": [],
   "source": [
    "pipeline = Pipeline([\n",
    "    (\"imputation\", SimpleImputer(missing_values=np.nan, strategy='mean')),  # impute missing data (Nc values)\n",
    "    (\"scaling\", MinMaxScaler()),  # scale data to [0, 1]\n",
    "    (\"logistic_regression\", LogisticRegression(solver=\"saga\"))\n",
    "])"
   ]
  },
  {
   "cell_type": "code",
   "execution_count": 9,
   "metadata": {},
   "outputs": [],
   "source": [
    "X_train, X_test, y_train, y_test = train_test_split(X, y, test_size=0.4, random_state=123)"
   ]
  },
  {
   "cell_type": "code",
   "execution_count": 10,
   "metadata": {},
   "outputs": [
    {
     "data": {
      "text/plain": [
       "0.8457449015204281"
      ]
     },
     "execution_count": 10,
     "metadata": {},
     "output_type": "execute_result"
    }
   ],
   "source": [
    "pipeline.fit(X_train, y_train)\n",
    "y_pred_prob = pipeline.predict_proba(X_test)[:,1]\n",
    "roc_auc_score(y_test, y_pred_prob)"
   ]
  },
  {
   "cell_type": "code",
   "execution_count": 30,
   "metadata": {},
   "outputs": [
    {
     "name": "stdout",
     "output_type": "stream",
     "text": [
      "0.7866642756378118 0.006906998295357046\n"
     ]
    }
   ],
   "source": [
    "cv_scores = cross_val_score(pipeline, X, y, cv=5, scoring=\"roc_auc\", n_jobs=-1)\n",
    "print(cv_scores.mean(), cv_scores.var())"
   ]
  },
  {
   "cell_type": "markdown",
   "metadata": {},
   "source": [
    "## Undersampling of non-essential genes"
   ]
  },
  {
   "cell_type": "code",
   "execution_count": 13,
   "metadata": {},
   "outputs": [],
   "source": [
    "from imblearn.under_sampling import RandomUnderSampler"
   ]
  },
  {
   "cell_type": "code",
   "execution_count": 59,
   "metadata": {},
   "outputs": [],
   "source": [
    "rus = RandomUnderSampler(sampling_strategy=1, random_state=123)\n",
    "X_resampled, y_resampled = rus.fit_resample(X, y)"
   ]
  },
  {
   "cell_type": "code",
   "execution_count": 75,
   "metadata": {},
   "outputs": [],
   "source": [
    "pipeline = Pipeline([\n",
    "    (\"imputation\", SimpleImputer(missing_values=np.nan, strategy='mean')),  # impute missing data (Nc values)\n",
    "    (\"scaling\", MinMaxScaler()),  # scale data to [0, 1]\n",
    "    (\"logistic_regression\", LogisticRegression())\n",
    "])"
   ]
  },
  {
   "cell_type": "code",
   "execution_count": 61,
   "metadata": {},
   "outputs": [],
   "source": [
    "X_train, X_test, y_train, y_test = train_test_split(X_resampled, y_resampled, test_size=0.4, random_state=123)"
   ]
  },
  {
   "cell_type": "code",
   "execution_count": 76,
   "metadata": {},
   "outputs": [
    {
     "data": {
      "text/plain": [
       "0.84893987716292"
      ]
     },
     "execution_count": 76,
     "metadata": {},
     "output_type": "execute_result"
    }
   ],
   "source": [
    "pipeline.fit(X_train, y_train)\n",
    "y_pred_prob = pipeline.predict_proba(X_test)[:,1]\n",
    "roc_auc_score(y_test, y_pred_prob)"
   ]
  },
  {
   "cell_type": "code",
   "execution_count": 31,
   "metadata": {
    "scrolled": true
   },
   "outputs": [
    {
     "name": "stdout",
     "output_type": "stream",
     "text": [
      "0.79503317468354 0.004137859897743528\n"
     ]
    }
   ],
   "source": [
    "cv_scores = cross_val_score(pipeline, X_resampled, y_resampled, cv=5, scoring=\"roc_auc\", n_jobs=-1)\n",
    "print(cv_scores.mean(), cv_scores.var())"
   ]
  },
  {
   "cell_type": "markdown",
   "metadata": {},
   "source": [
    "-> Higher avg AUC, lower variance with undersampling. Also much faster."
   ]
  },
  {
   "cell_type": "markdown",
   "metadata": {},
   "source": [
    "## Hyperparameter tuning"
   ]
  },
  {
   "cell_type": "code",
   "execution_count": 99,
   "metadata": {},
   "outputs": [],
   "source": [
    "params = {\n",
    "    \"logistic_regression__C\": np.logspace(-2, 2),\n",
    "    \"logistic_regression__penalty\": [\"l1\", \"l2\"]\n",
    "}\n",
    "pipeline = Pipeline([\n",
    "    (\"imputation\", SimpleImputer(missing_values=np.nan, strategy='mean')),  # impute missing data (Nc values)\n",
    "    (\"scaling\", MinMaxScaler()),  # scale data to [0, 1]\n",
    "    (\"logistic_regression\", LogisticRegression(solver=\"saga\"))\n",
    "])\n",
    "search = GridSearchCV(pipeline, params, scoring=\"roc_auc\", n_jobs=-1)"
   ]
  },
  {
   "cell_type": "code",
   "execution_count": 100,
   "metadata": {},
   "outputs": [
    {
     "data": {
      "text/plain": [
       "GridSearchCV(estimator=Pipeline(steps=[('imputation', SimpleImputer()),\n",
       "                                       ('scaling', MinMaxScaler()),\n",
       "                                       ('logistic_regression',\n",
       "                                        LogisticRegression(solver='saga'))]),\n",
       "             n_jobs=-1,\n",
       "             param_grid={'logistic_regression__C': array([1.00000000e-02, 1.20679264e-02, 1.45634848e-02, 1.75751062e-02,\n",
       "       2.12095089e-02, 2.55954792e-02, 3.08884360e-02, 3.72759372e-02,\n",
       "       4.49843267e-02, 5.42...\n",
       "       1.93069773e+00, 2.32995181e+00, 2.81176870e+00, 3.39322177e+00,\n",
       "       4.09491506e+00, 4.94171336e+00, 5.96362332e+00, 7.19685673e+00,\n",
       "       8.68511374e+00, 1.04811313e+01, 1.26485522e+01, 1.52641797e+01,\n",
       "       1.84206997e+01, 2.22299648e+01, 2.68269580e+01, 3.23745754e+01,\n",
       "       3.90693994e+01, 4.71486636e+01, 5.68986603e+01, 6.86648845e+01,\n",
       "       8.28642773e+01, 1.00000000e+02]),\n",
       "                         'logistic_regression__penalty': ['l1', 'l2']},\n",
       "             scoring='roc_auc')"
      ]
     },
     "execution_count": 100,
     "metadata": {},
     "output_type": "execute_result"
    }
   ],
   "source": [
    "search.fit(X_train, y_train)"
   ]
  },
  {
   "cell_type": "code",
   "execution_count": 101,
   "metadata": {},
   "outputs": [
    {
     "data": {
      "text/plain": [
       "{'logistic_regression__C': 0.017575106248547922,\n",
       " 'logistic_regression__penalty': 'l1'}"
      ]
     },
     "execution_count": 101,
     "metadata": {},
     "output_type": "execute_result"
    }
   ],
   "source": [
    "search.best_params_"
   ]
  },
  {
   "cell_type": "code",
   "execution_count": 103,
   "metadata": {
    "scrolled": true
   },
   "outputs": [
    {
     "data": {
      "text/plain": [
       "0.8537808584031038"
      ]
     },
     "execution_count": 103,
     "metadata": {},
     "output_type": "execute_result"
    }
   ],
   "source": [
    "y_pred_prob = search.predict_proba(X_test)[:,1]\n",
    "roc_auc_score(y_test, y_pred_prob)"
   ]
  },
  {
   "cell_type": "code",
   "execution_count": 102,
   "metadata": {},
   "outputs": [
    {
     "name": "stdout",
     "output_type": "stream",
     "text": [
      "0.8046714173440425 0.0034147941611028187\n"
     ]
    }
   ],
   "source": [
    "cv_scores = cross_val_score(search, X_resampled, y_resampled, cv=5, scoring=\"roc_auc\", n_jobs=-1)\n",
    "print(cv_scores.mean(), cv_scores.var())"
   ]
  },
  {
   "cell_type": "code",
   "execution_count": 108,
   "metadata": {},
   "outputs": [
    {
     "data": {
      "text/plain": [
       "array([[ 0.00000000e+00, -6.08922719e+00, -1.66278115e-03,\n",
       "         0.00000000e+00, -1.17175813e-01,  0.00000000e+00,\n",
       "         0.00000000e+00,  6.05820377e-01,  0.00000000e+00,\n",
       "         0.00000000e+00,  0.00000000e+00,  0.00000000e+00,\n",
       "         0.00000000e+00]])"
      ]
     },
     "execution_count": 108,
     "metadata": {},
     "output_type": "execute_result"
    }
   ],
   "source": [
    "search.best_estimator_.named_steps[\"logistic_regression\"].coef_"
   ]
  },
  {
   "cell_type": "markdown",
   "metadata": {},
   "source": [
    "## Feature selection"
   ]
  },
  {
   "cell_type": "code",
   "execution_count": 69,
   "metadata": {},
   "outputs": [],
   "source": [
    "import matplotlib.pyplot as plt"
   ]
  },
  {
   "cell_type": "markdown",
   "metadata": {},
   "source": [
    "**L2 regularization**"
   ]
  },
  {
   "cell_type": "code",
   "execution_count": 88,
   "metadata": {},
   "outputs": [],
   "source": [
    "pipeline_l2 = Pipeline([\n",
    "    (\"imputation\", SimpleImputer(missing_values=np.nan, strategy='mean')),  # impute missing data (Nc values)\n",
    "    (\"scaling\", MinMaxScaler()),  # scale data to [0, 1]\n",
    "    (\"logistic_regression\", LogisticRegression(solver=\"saga\"))\n",
    "])"
   ]
  },
  {
   "cell_type": "code",
   "execution_count": 89,
   "metadata": {},
   "outputs": [
    {
     "data": {
      "text/plain": [
       "0.8489387629822658"
      ]
     },
     "execution_count": 89,
     "metadata": {},
     "output_type": "execute_result"
    }
   ],
   "source": [
    "pipeline_l2.fit(X_train, y_train)\n",
    "y_pred_prob = pipeline_l2.predict_proba(X_test)[:,1]\n",
    "roc_auc_score(y_test, y_pred_prob)"
   ]
  },
  {
   "cell_type": "code",
   "execution_count": 90,
   "metadata": {},
   "outputs": [
    {
     "data": {
      "text/plain": [
       "array([[ 0.03431828, -6.91842011, -0.43408867, -0.73423416, -0.55522059,\n",
       "         0.27560508,  0.79285617,  1.15011676, -0.34667606, -0.08179699,\n",
       "        -0.27869298,  0.55369881,  0.39674999]])"
      ]
     },
     "execution_count": 90,
     "metadata": {},
     "output_type": "execute_result"
    }
   ],
   "source": [
    "pipeline_l2.named_steps[\"logistic_regression\"].coef_"
   ]
  },
  {
   "cell_type": "code",
   "execution_count": 91,
   "metadata": {},
   "outputs": [
    {
     "data": {
      "text/plain": [
       "[<matplotlib.lines.Line2D at 0x7f5297d71850>]"
      ]
     },
     "execution_count": 91,
     "metadata": {},
     "output_type": "execute_result"
    },
    {
     "data": {
      "image/png": "[encoded data removed]",
      "text/plain": [
       "<Figure size 432x288 with 1 Axes>"
      ]
     },
     "metadata": {
      "needs_background": "light"
     },
     "output_type": "display_data"
    }
   ],
   "source": [
    "plt.plot(pipeline_l2.named_steps[\"logistic_regression\"].coef_.flatten())"
   ]
  },
  {
   "cell_type": "markdown",
   "metadata": {},
   "source": [
    "**L1 regularization**"
   ]
  },
  {
   "cell_type": "code",
   "execution_count": 109,
   "metadata": {},
   "outputs": [],
   "source": [
    "pipeline_l1 = Pipeline([\n",
    "    (\"imputation\", SimpleImputer(missing_values=np.nan, strategy='mean')),  # impute missing data (Nc values)\n",
    "    (\"scaling\", MinMaxScaler()),  # scale data to [0, 1]\n",
    "    (\"logistic_regression\", LogisticRegression(C=0.0176, penalty=\"l1\", solver=\"saga\"))\n",
    "])"
   ]
  },
  {
   "cell_type": "code",
   "execution_count": 110,
   "metadata": {},
   "outputs": [
    {
     "data": {
      "text/plain": [
       "0.8537797887896758"
      ]
     },
     "execution_count": 110,
     "metadata": {},
     "output_type": "execute_result"
    }
   ],
   "source": [
    "pipeline_l1.fit(X_train, y_train)\n",
    "y_pred_prob = pipeline_l1.predict_proba(X_test)[:,1]\n",
    "roc_auc_score(y_test, y_pred_prob)"
   ]
  },
  {
   "cell_type": "code",
   "execution_count": 111,
   "metadata": {},
   "outputs": [
    {
     "data": {
      "text/plain": [
       "array([[ 0.00000000e+00, -6.09060361e+00, -8.53967444e-04,\n",
       "         0.00000000e+00, -1.17791237e-01,  0.00000000e+00,\n",
       "         0.00000000e+00,  6.06529645e-01,  0.00000000e+00,\n",
       "         0.00000000e+00,  0.00000000e+00,  0.00000000e+00,\n",
       "         0.00000000e+00]])"
      ]
     },
     "execution_count": 111,
     "metadata": {},
     "output_type": "execute_result"
    }
   ],
   "source": [
    "pipeline_l1.named_steps[\"logistic_regression\"].coef_"
   ]
  },
  {
   "cell_type": "code",
   "execution_count": 112,
   "metadata": {},
   "outputs": [
    {
     "data": {
      "text/plain": [
       "[<matplotlib.lines.Line2D at 0x7f529cfcc050>]"
      ]
     },
     "execution_count": 112,
     "metadata": {},
     "output_type": "execute_result"
    },
    {
     "data": {
      "image/png": "[encoded data removed]",
      "text/plain": [
       "<Figure size 432x288 with 1 Axes>"
      ]
     },
     "metadata": {
      "needs_background": "light"
     },
     "output_type": "display_data"
    }
   ],
   "source": [
    "plt.plot(pipeline_l1.named_steps[\"logistic_regression\"].coef_.flatten())"
   ]
  },
  {
   "cell_type": "code",
   "execution_count": null,
   "metadata": {},
   "outputs": [],
   "source": [
    "y_pred_prob = logreg.predict_proba(X_test)[:,1]\n",
    "fpr, tpr, thresholds = roc_curve(y_test, y_pred_prob)\n",
    "plt.plot([0, 1], [0, 1], 'k--')\n",
    "plt.plot(fpr, tpr, label='Logistic Regression')\n",
    "plt.xlabel('False Positive Rate')\n",
    "plt.ylabel('True Positive Rate')\n",
    "plt.title('Logistic Regression ROC Curve')\n",
    "plt.show()\n",
    "\n",
    "roc_auc_score(y_test, y_pred_prob)\n",
    "\n",
    "cv_scores = cross_val_score(logreg, X, y, cv=5, scoring='roc_auc')"
   ]
  }
 ],
 "metadata": {
  "kernelspec": {
   "display_name": "Python 3",
   "language": "python",
   "name": "python3"
  },
  "language_info": {
   "codemirror_mode": {
    "name": "ipython",
    "version": 3
   },
   "file_extension": ".py",
   "mimetype": "text/x-python",
   "name": "python",
   "nbconvert_exporter": "python",
   "pygments_lexer": "ipython3",
   "version": "3.7.6"
  }
 },
 "nbformat": 4,
 "nbformat_minor": 4
}
